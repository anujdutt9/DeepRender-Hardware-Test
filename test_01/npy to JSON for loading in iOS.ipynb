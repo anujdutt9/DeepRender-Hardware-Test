{
 "cells": [
  {
   "cell_type": "code",
   "execution_count": 1,
   "metadata": {},
   "outputs": [],
   "source": [
    "import json\n",
    "from json import JSONEncoder\n",
    "import numpy as np\n",
    "from glob import glob"
   ]
  },
  {
   "cell_type": "code",
   "execution_count": 2,
   "metadata": {},
   "outputs": [],
   "source": [
    "data_path = './y_hat/*'"
   ]
  },
  {
   "cell_type": "code",
   "execution_count": 3,
   "metadata": {},
   "outputs": [],
   "source": [
    "# GT Name, y_hat data\n",
    "for file in glob(data_path):\n",
    "    outer = {}\n",
    "    inner = {}\n",
    "    \n",
    "    # File Name\n",
    "    fname = str(file.split('/')[2].split('.')[0]) + \".png\"\n",
    "    \n",
    "    # Read Numpy files and add to JSON file\n",
    "    data = np.load(file)\n",
    "    \n",
    "    inner['data'] = data.tolist()\n",
    "    inner['shape'] = data.shape\n",
    "    outer[fname] = inner\n",
    "    \n",
    "    json_filename = \"./y_hat/\" + str(file.split('/')[2].split('.')[0]) + \"_data.json\"\n",
    "    \n",
    "    with open(json_filename, 'w') as outfile:\n",
    "        json.dump(outer, outfile)"
   ]
  }
 ],
 "metadata": {
  "kernelspec": {
   "display_name": "Python 3",
   "language": "python",
   "name": "python3"
  },
  "language_info": {
   "codemirror_mode": {
    "name": "ipython",
    "version": 3
   },
   "file_extension": ".py",
   "mimetype": "text/x-python",
   "name": "python",
   "nbconvert_exporter": "python",
   "pygments_lexer": "ipython3",
   "version": "3.8.1"
  }
 },
 "nbformat": 4,
 "nbformat_minor": 4
}
