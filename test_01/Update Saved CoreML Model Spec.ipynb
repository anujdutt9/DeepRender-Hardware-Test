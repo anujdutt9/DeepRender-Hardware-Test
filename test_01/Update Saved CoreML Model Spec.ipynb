{
 "cells": [
  {
   "cell_type": "code",
   "execution_count": 1,
   "metadata": {},
   "outputs": [
    {
     "name": "stderr",
     "output_type": "stream",
     "text": [
      "WARNING:root:scikit-learn version 0.23.1 is not supported. Minimum required version: 0.17. Maximum required version: 0.19.2. Disabling scikit-learn conversion API.\n"
     ]
    }
   ],
   "source": [
    "import coremltools\n",
    "import coremltools.proto.FeatureTypes_pb2 as ft"
   ]
  },
  {
   "cell_type": "code",
   "execution_count": 2,
   "metadata": {},
   "outputs": [],
   "source": [
    "spec = coremltools.utils.load_spec(\"./Original CoreML Models/test01_model.mlmodel\")"
   ]
  },
  {
   "cell_type": "code",
   "execution_count": 3,
   "metadata": {},
   "outputs": [],
   "source": [
    "spec_layers = getattr(spec,spec.WhichOneof(\"Type\")).layers"
   ]
  },
  {
   "cell_type": "code",
   "execution_count": 4,
   "metadata": {},
   "outputs": [],
   "source": [
    "# find the current output layer and save it for later reference\n",
    "last_layer = spec_layers[-1]"
   ]
  },
  {
   "cell_type": "code",
   "execution_count": 5,
   "metadata": {},
   "outputs": [],
   "source": [
    "# add the post-processing layer\n",
    "new_layer = spec_layers.add()\n",
    "new_layer.name = 'convert_to_image'"
   ]
  },
  {
   "cell_type": "code",
   "execution_count": 6,
   "metadata": {},
   "outputs": [],
   "source": [
    "# Configure it as an activation layer\n",
    "new_layer.activation.linear.alpha = 255\n",
    "new_layer.activation.linear.beta = 0"
   ]
  },
  {
   "cell_type": "code",
   "execution_count": 7,
   "metadata": {},
   "outputs": [],
   "source": [
    "# Use the original model's output as input to this layer\n",
    "new_layer.input.append(last_layer.output[0])"
   ]
  },
  {
   "cell_type": "code",
   "execution_count": 8,
   "metadata": {},
   "outputs": [],
   "source": [
    "# Name the output for later reference when saving the model\n",
    "new_layer.output.append('image_output')"
   ]
  },
  {
   "cell_type": "code",
   "execution_count": 9,
   "metadata": {},
   "outputs": [],
   "source": [
    "# Find the original model's output description\n",
    "output_description = next(x for x in spec.description.output if x.name==last_layer.output[0])\n",
    " \n",
    "# Update it to use the new layer as output\n",
    "output_description.name = new_layer.name"
   ]
  },
  {
   "cell_type": "code",
   "execution_count": 10,
   "metadata": {},
   "outputs": [
    {
     "data": {
      "text/plain": [
       "name: \"convert_to_image\"\n",
       "shortDescription: \"Compressed Image Output\"\n",
       "type {\n",
       "  multiArrayType {\n",
       "    shape: 1\n",
       "    shape: 3\n",
       "    shape: 512\n",
       "    shape: 768\n",
       "    dataType: FLOAT32\n",
       "  }\n",
       "}"
      ]
     },
     "execution_count": 10,
     "metadata": {},
     "output_type": "execute_result"
    }
   ],
   "source": [
    "output = spec.description.output[0]\n",
    "output"
   ]
  },
  {
   "cell_type": "code",
   "execution_count": 11,
   "metadata": {},
   "outputs": [],
   "source": [
    "del output.type.multiArrayType.shape[0]"
   ]
  },
  {
   "cell_type": "code",
   "execution_count": 12,
   "metadata": {},
   "outputs": [],
   "source": [
    "# Function to mark the layer as output\n",
    "# https://forums.developer.apple.com/thread/81571#241998\n",
    "def convert_multiarray_output_to_image(spec, feature_name, is_bgr=False): \n",
    "    \"\"\" \n",
    "    Convert an output multiarray to be represented as an image \n",
    "    This will modify the Model_pb spec passed in. \n",
    "    Example: \n",
    "        model = coremltools.models.MLModel('MyNeuralNetwork.mlmodel') \n",
    "        spec = model.get_spec() \n",
    "        convert_multiarray_output_to_image(spec,'imageOutput',is_bgr=False) \n",
    "        newModel = coremltools.models.MLModel(spec) \n",
    "        newModel.save('MyNeuralNetworkWithImageOutput.mlmodel') \n",
    "    Parameters \n",
    "    ---------- \n",
    "    spec: Model_pb \n",
    "        The specification containing the output feature to convert \n",
    "    feature_name: str \n",
    "        The name of the multiarray output feature you want to convert \n",
    "    is_bgr: boolean \n",
    "        If multiarray has 3 channels, set to True for RGB pixel order or false for BGR \n",
    "    \"\"\"\n",
    "    for output in spec.description.output: \n",
    "        if output.name != feature_name: \n",
    "            continue\n",
    "        if output.type.WhichOneof('Type') != 'multiArrayType': \n",
    "            raise ValueError(\"%s is not a multiarray type\" % output.name) \n",
    "        array_shape = tuple(output.type.multiArrayType.shape) \n",
    "        channels, height, width = array_shape \n",
    "        from coremltools.proto import FeatureTypes_pb2 as ft \n",
    "        if channels == 1: \n",
    "            output.type.imageType.colorSpace = ft.ImageFeatureType.ColorSpace.Value('GRAYSCALE') \n",
    "        elif channels == 3: \n",
    "            if is_bgr: \n",
    "                output.type.imageType.colorSpace = ft.ImageFeatureType.ColorSpace.Value('BGR') \n",
    "            else: \n",
    "                output.type.imageType.colorSpace = ft.ImageFeatureType.ColorSpace.Value('RGB') \n",
    "        else: \n",
    "            raise ValueError(\"Channel Value %d not supported for image inputs\" % channels) \n",
    "        output.type.imageType.width = width \n",
    "        output.type.imageType.height = height "
   ]
  },
  {
   "cell_type": "code",
   "execution_count": 13,
   "metadata": {},
   "outputs": [],
   "source": [
    "# Mark the new layer as image\n",
    "convert_multiarray_output_to_image(spec, output_description.name, is_bgr=False)"
   ]
  },
  {
   "cell_type": "code",
   "execution_count": 14,
   "metadata": {},
   "outputs": [
    {
     "name": "stderr",
     "output_type": "stream",
     "text": [
      "/Users/anujdutt/miniconda3/envs/PyTorch/lib/python3.8/site-packages/coremltools/models/model.py:115: RuntimeWarning: You will not be able to run predict() on this Core ML model. Underlying exception message was: Error compiling model: \"Error reading protobuf spec. validator error: Interface specifies output 'convert_to_image' which is not produced by any layer in the neural network.\".\n",
      "  _warnings.warn(\n"
     ]
    }
   ],
   "source": [
    "updated_model = coremltools.models.MLModel(spec)\n",
    " \n",
    "model_file_name = './updated_model.mlmodel'\n",
    "updated_model.save(model_file_name)"
   ]
  },
  {
   "cell_type": "code",
   "execution_count": null,
   "metadata": {},
   "outputs": [],
   "source": []
  },
  {
   "cell_type": "code",
   "execution_count": null,
   "metadata": {},
   "outputs": [],
   "source": []
  },
  {
   "cell_type": "code",
   "execution_count": null,
   "metadata": {},
   "outputs": [],
   "source": [
    "output = spec.description.output[0]\n",
    "output"
   ]
  },
  {
   "cell_type": "code",
   "execution_count": null,
   "metadata": {},
   "outputs": [],
   "source": [
    "del output.type.multiArrayType.shape[0]"
   ]
  },
  {
   "cell_type": "code",
   "execution_count": null,
   "metadata": {},
   "outputs": [],
   "source": [
    "output"
   ]
  },
  {
   "cell_type": "code",
   "execution_count": null,
   "metadata": {},
   "outputs": [],
   "source": [
    "output.type.imageType.colorSpace = ft.ImageFeatureType.RGB \n",
    "output.type.imageType.height = 768\n",
    "output.type.imageType.width = 512"
   ]
  },
  {
   "cell_type": "code",
   "execution_count": null,
   "metadata": {},
   "outputs": [],
   "source": [
    "output"
   ]
  },
  {
   "cell_type": "code",
   "execution_count": null,
   "metadata": {},
   "outputs": [],
   "source": [
    "coremltools.utils.save_spec(spec, \"./Final_Models/test01_model.mlmodel\")"
   ]
  },
  {
   "cell_type": "code",
   "execution_count": null,
   "metadata": {},
   "outputs": [],
   "source": []
  },
  {
   "cell_type": "code",
   "execution_count": null,
   "metadata": {},
   "outputs": [],
   "source": []
  },
  {
   "cell_type": "code",
   "execution_count": null,
   "metadata": {},
   "outputs": [],
   "source": []
  },
  {
   "cell_type": "code",
   "execution_count": null,
   "metadata": {},
   "outputs": [],
   "source": []
  },
  {
   "cell_type": "code",
   "execution_count": null,
   "metadata": {},
   "outputs": [],
   "source": []
  },
  {
   "cell_type": "code",
   "execution_count": null,
   "metadata": {},
   "outputs": [],
   "source": [
    "def convert_multiarray_to_image(feature, is_bgr=False):\n",
    "    import coremltools.proto.FeatureTypes_pb2 as ft\n",
    "\n",
    "    if feature.type.WhichOneof(\"Type\") != \"multiArrayType\":\n",
    "        raise ValueError(\"%s is not a multiarray type\" % feature.name)\n",
    "\n",
    "    shape = tuple(feature.type.multiArrayType.shape)\n",
    "    channels = None\n",
    "    if len(shape) == 2:\n",
    "        channels = 1\n",
    "        height, width = shape\n",
    "    elif len(shape) == 3:\n",
    "        channels, height, width = shape\n",
    "\n",
    "    if channels != 1 and channels != 3:\n",
    "        raise ValueError(\"Shape {} not supported for image type\".format(shape))\n",
    "\n",
    "    if channels == 1:\n",
    "        feature.type.imageType.colorSpace = ft.ImageFeatureType.GRAYSCALE\n",
    "    elif channels == 3:\n",
    "        if is_bgr:\n",
    "            feature.type.imageType.colorSpace = ft.ImageFeatureType.BGR\n",
    "        else:\n",
    "            feature.type.imageType.colorSpace = ft.ImageFeatureType.RGB\n",
    "\n",
    "    feature.type.imageType.width = width\n",
    "    feature.type.imageType.height = height"
   ]
  },
  {
   "cell_type": "code",
   "execution_count": null,
   "metadata": {},
   "outputs": [],
   "source": [
    "convert_multiarray_to_image(spec.description.output[0], is_bgr=False)"
   ]
  },
  {
   "cell_type": "code",
   "execution_count": null,
   "metadata": {},
   "outputs": [],
   "source": [
    "output"
   ]
  },
  {
   "cell_type": "code",
   "execution_count": null,
   "metadata": {},
   "outputs": [],
   "source": [
    "coremltools.utils.save_spec(spec, \"./Final_Models/test01_model.mlmodel\")"
   ]
  },
  {
   "cell_type": "code",
   "execution_count": null,
   "metadata": {},
   "outputs": [],
   "source": [
    "# Test\n",
    "new_spec = coremltools.utils.load_spec(\"./Final_Models/test01_model.mlmodel\")"
   ]
  },
  {
   "cell_type": "code",
   "execution_count": null,
   "metadata": {},
   "outputs": [],
   "source": [
    "output = new_spec.description.output[0]\n",
    "output"
   ]
  }
 ],
 "metadata": {
  "kernelspec": {
   "display_name": "Python 3",
   "language": "python",
   "name": "python3"
  },
  "language_info": {
   "codemirror_mode": {
    "name": "ipython",
    "version": 3
   },
   "file_extension": ".py",
   "mimetype": "text/x-python",
   "name": "python",
   "nbconvert_exporter": "python",
   "pygments_lexer": "ipython3",
   "version": "3.8.1"
  }
 },
 "nbformat": 4,
 "nbformat_minor": 4
}
