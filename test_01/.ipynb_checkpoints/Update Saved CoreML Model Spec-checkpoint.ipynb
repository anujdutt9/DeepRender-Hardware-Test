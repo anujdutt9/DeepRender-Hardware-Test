{
 "cells": [
  {
   "cell_type": "code",
   "execution_count": 1,
   "metadata": {},
   "outputs": [
    {
     "name": "stderr",
     "output_type": "stream",
     "text": [
      "WARNING:root:scikit-learn version 0.23.1 is not supported. Minimum required version: 0.17. Maximum required version: 0.19.2. Disabling scikit-learn conversion API.\n"
     ]
    }
   ],
   "source": [
    "import coremltools\n",
    "import coremltools.proto.FeatureTypes_pb2 as ft"
   ]
  },
  {
   "cell_type": "code",
   "execution_count": 2,
   "metadata": {},
   "outputs": [],
   "source": [
    "spec = coremltools.utils.load_spec(\"./Original CoreML Models/test01_model.mlmodel\")"
   ]
  },
  {
   "cell_type": "code",
   "execution_count": 3,
   "metadata": {},
   "outputs": [
    {
     "data": {
      "text/plain": [
       "name: \"pred\"\n",
       "shortDescription: \"Compressed Image Output\"\n",
       "type {\n",
       "  multiArrayType {\n",
       "    shape: 1\n",
       "    shape: 3\n",
       "    shape: 512\n",
       "    shape: 768\n",
       "    dataType: FLOAT32\n",
       "  }\n",
       "}"
      ]
     },
     "execution_count": 3,
     "metadata": {},
     "output_type": "execute_result"
    }
   ],
   "source": [
    "output = spec.description.output[0]\n",
    "output"
   ]
  },
  {
   "cell_type": "code",
   "execution_count": 4,
   "metadata": {},
   "outputs": [],
   "source": [
    "del output.type.multiArrayType.shape[0]"
   ]
  },
  {
   "cell_type": "code",
   "execution_count": 5,
   "metadata": {},
   "outputs": [
    {
     "data": {
      "text/plain": [
       "name: \"pred\"\n",
       "shortDescription: \"Compressed Image Output\"\n",
       "type {\n",
       "  multiArrayType {\n",
       "    shape: 3\n",
       "    shape: 512\n",
       "    shape: 768\n",
       "    dataType: FLOAT32\n",
       "  }\n",
       "}"
      ]
     },
     "execution_count": 5,
     "metadata": {},
     "output_type": "execute_result"
    }
   ],
   "source": [
    "output"
   ]
  },
  {
   "cell_type": "code",
   "execution_count": 6,
   "metadata": {},
   "outputs": [],
   "source": [
    "output.type.imageType.colorSpace = ft.ImageFeatureType.BGR \n",
    "output.type.imageType.height = 768\n",
    "output.type.imageType.width = 512"
   ]
  },
  {
   "cell_type": "code",
   "execution_count": 7,
   "metadata": {},
   "outputs": [
    {
     "data": {
      "text/plain": [
       "name: \"pred\"\n",
       "shortDescription: \"Compressed Image Output\"\n",
       "type {\n",
       "  imageType {\n",
       "    width: 512\n",
       "    height: 768\n",
       "    colorSpace: BGR\n",
       "  }\n",
       "}"
      ]
     },
     "execution_count": 7,
     "metadata": {},
     "output_type": "execute_result"
    }
   ],
   "source": [
    "output"
   ]
  },
  {
   "cell_type": "code",
   "execution_count": 8,
   "metadata": {},
   "outputs": [],
   "source": [
    "coremltools.utils.save_spec(spec, \"./Final_Models/test01_model.mlmodel\")"
   ]
  },
  {
   "cell_type": "code",
   "execution_count": null,
   "metadata": {},
   "outputs": [],
   "source": []
  },
  {
   "cell_type": "code",
   "execution_count": null,
   "metadata": {},
   "outputs": [],
   "source": [
    "def convert_multiarray_to_image(feature, is_bgr=False):\n",
    "    import coremltools.proto.FeatureTypes_pb2 as ft\n",
    "\n",
    "    if feature.type.WhichOneof(\"Type\") != \"multiArrayType\":\n",
    "        raise ValueError(\"%s is not a multiarray type\" % feature.name)\n",
    "\n",
    "    shape = tuple(feature.type.multiArrayType.shape)\n",
    "    channels = None\n",
    "    if len(shape) == 2:\n",
    "        channels = 1\n",
    "        height, width = shape\n",
    "    elif len(shape) == 3:\n",
    "        channels, height, width = shape\n",
    "\n",
    "    if channels != 1 and channels != 3:\n",
    "        raise ValueError(\"Shape {} not supported for image type\".format(shape))\n",
    "\n",
    "    if channels == 1:\n",
    "        feature.type.imageType.colorSpace = ft.ImageFeatureType.GRAYSCALE\n",
    "    elif channels == 3:\n",
    "        if is_bgr:\n",
    "            feature.type.imageType.colorSpace = ft.ImageFeatureType.BGR\n",
    "        else:\n",
    "            feature.type.imageType.colorSpace = ft.ImageFeatureType.RGB\n",
    "\n",
    "    feature.type.imageType.width = width\n",
    "    feature.type.imageType.height = height"
   ]
  },
  {
   "cell_type": "code",
   "execution_count": null,
   "metadata": {},
   "outputs": [],
   "source": [
    "convert_multiarray_to_image(spec.description.output[0], is_bgr=False)"
   ]
  },
  {
   "cell_type": "code",
   "execution_count": null,
   "metadata": {},
   "outputs": [],
   "source": [
    "output"
   ]
  },
  {
   "cell_type": "code",
   "execution_count": null,
   "metadata": {},
   "outputs": [],
   "source": [
    "coremltools.utils.save_spec(spec, \"./Final_Models/test01_model.mlmodel\")"
   ]
  },
  {
   "cell_type": "code",
   "execution_count": null,
   "metadata": {},
   "outputs": [],
   "source": [
    "# Test\n",
    "new_spec = coremltools.utils.load_spec(\"./Final_Models/test01_model.mlmodel\")"
   ]
  },
  {
   "cell_type": "code",
   "execution_count": null,
   "metadata": {},
   "outputs": [],
   "source": [
    "output = new_spec.description.output[0]\n",
    "output"
   ]
  }
 ],
 "metadata": {
  "kernelspec": {
   "display_name": "Python 3",
   "language": "python",
   "name": "python3"
  },
  "language_info": {
   "codemirror_mode": {
    "name": "ipython",
    "version": 3
   },
   "file_extension": ".py",
   "mimetype": "text/x-python",
   "name": "python",
   "nbconvert_exporter": "python",
   "pygments_lexer": "ipython3",
   "version": "3.8.1"
  }
 },
 "nbformat": 4,
 "nbformat_minor": 4
}
