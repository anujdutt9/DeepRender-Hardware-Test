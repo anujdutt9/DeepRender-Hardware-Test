{
 "cells": [
  {
   "cell_type": "code",
   "execution_count": 1,
   "metadata": {},
   "outputs": [],
   "source": [
    "import os\n",
    "import sys\n",
    "import numpy as np\n",
    "import cv2"
   ]
  },
  {
   "cell_type": "code",
   "execution_count": 10,
   "metadata": {},
   "outputs": [],
   "source": [
    "ios_image = './iOS_Output/output_14_8bit.png'\n",
    "original_image = './kodak/14.png'"
   ]
  },
  {
   "cell_type": "code",
   "execution_count": 11,
   "metadata": {},
   "outputs": [],
   "source": [
    "ios_image = cv2.imread(original_image).astype(np.float32) / 255.0\n",
    "ios_image = np.expand_dims(np.transpose(ios_image, [2,0,1]), axis=0)\n",
    "\n",
    "orig_img = cv2.imread(original_image).astype(np.float32) / 255.0\n",
    "orig_img = np.expand_dims(np.transpose(orig_img, [2,0,1]), axis=0)"
   ]
  },
  {
   "cell_type": "code",
   "execution_count": 12,
   "metadata": {},
   "outputs": [
    {
     "data": {
      "text/plain": [
       "(1, 3, 512, 768)"
      ]
     },
     "execution_count": 12,
     "metadata": {},
     "output_type": "execute_result"
    }
   ],
   "source": [
    "ios_image.shape"
   ]
  },
  {
   "cell_type": "code",
   "execution_count": 13,
   "metadata": {},
   "outputs": [
    {
     "data": {
      "text/plain": [
       "(1, 3, 512, 768)"
      ]
     },
     "execution_count": 13,
     "metadata": {},
     "output_type": "execute_result"
    }
   ],
   "source": [
    "orig_img.shape"
   ]
  },
  {
   "cell_type": "code",
   "execution_count": 14,
   "metadata": {},
   "outputs": [],
   "source": [
    "mse = np.mean((orig_img - ios_image) ** 2) * 255.0 ** 2"
   ]
  },
  {
   "cell_type": "code",
   "execution_count": 15,
   "metadata": {},
   "outputs": [
    {
     "name": "stdout",
     "output_type": "stream",
     "text": [
      "0.0\n"
     ]
    }
   ],
   "source": [
    "print(mse)"
   ]
  },
  {
   "cell_type": "code",
   "execution_count": 16,
   "metadata": {},
   "outputs": [
    {
     "data": {
      "text/plain": [
       "array([[[[0.73333335, 0.7176471 , 0.70980394, ..., 0.05098039,\n",
       "          0.04705882, 0.05098039],\n",
       "         [0.9372549 , 0.9490196 , 0.94509804, ..., 0.6039216 ,\n",
       "          0.64705884, 0.6784314 ],\n",
       "         [0.92941177, 0.93333334, 0.9529412 , ..., 1.        ,\n",
       "          1.        , 1.        ],\n",
       "         ...,\n",
       "         [0.29411766, 0.24705882, 0.3137255 , ..., 0.21960784,\n",
       "          0.20392157, 0.21176471],\n",
       "         [0.28235295, 0.24705882, 0.33333334, ..., 0.24313726,\n",
       "          0.2509804 , 0.23137255],\n",
       "         [0.        , 0.        , 0.        , ..., 0.        ,\n",
       "          0.        , 0.        ]],\n",
       "\n",
       "        [[0.85882354, 0.8352941 , 0.8235294 , ..., 0.05490196,\n",
       "          0.05490196, 0.05882353],\n",
       "         [1.        , 1.        , 1.        , ..., 0.7019608 ,\n",
       "          0.7294118 , 0.7607843 ],\n",
       "         [1.        , 1.        , 1.        , ..., 1.        ,\n",
       "          1.        , 1.        ],\n",
       "         ...,\n",
       "         [0.40392157, 0.36862746, 0.44313726, ..., 0.3372549 ,\n",
       "          0.33333334, 0.3372549 ],\n",
       "         [0.39607844, 0.3647059 , 0.45882353, ..., 0.3764706 ,\n",
       "          0.39215687, 0.3764706 ],\n",
       "         [0.        , 0.        , 0.        , ..., 0.        ,\n",
       "          0.        , 0.        ]],\n",
       "\n",
       "        [[0.8666667 , 0.84705883, 0.8352941 , ..., 0.10588235,\n",
       "          0.09019608, 0.09803922],\n",
       "         [1.        , 1.        , 1.        , ..., 0.74509805,\n",
       "          0.7764706 , 0.80784315],\n",
       "         [1.        , 1.        , 1.        , ..., 1.        ,\n",
       "          1.        , 1.        ],\n",
       "         ...,\n",
       "         [0.42745098, 0.3882353 , 0.47058824, ..., 0.3372549 ,\n",
       "          0.33333334, 0.3372549 ],\n",
       "         [0.40784314, 0.39607844, 0.49803922, ..., 0.36078432,\n",
       "          0.3764706 , 0.36078432],\n",
       "         [0.        , 0.        , 0.        , ..., 0.        ,\n",
       "          0.        , 0.        ]]]], dtype=float32)"
      ]
     },
     "execution_count": 16,
     "metadata": {},
     "output_type": "execute_result"
    }
   ],
   "source": [
    "ios_image"
   ]
  },
  {
   "cell_type": "code",
   "execution_count": 17,
   "metadata": {},
   "outputs": [
    {
     "data": {
      "text/plain": [
       "array([[[[0.73333335, 0.7176471 , 0.70980394, ..., 0.05098039,\n",
       "          0.04705882, 0.05098039],\n",
       "         [0.9372549 , 0.9490196 , 0.94509804, ..., 0.6039216 ,\n",
       "          0.64705884, 0.6784314 ],\n",
       "         [0.92941177, 0.93333334, 0.9529412 , ..., 1.        ,\n",
       "          1.        , 1.        ],\n",
       "         ...,\n",
       "         [0.29411766, 0.24705882, 0.3137255 , ..., 0.21960784,\n",
       "          0.20392157, 0.21176471],\n",
       "         [0.28235295, 0.24705882, 0.33333334, ..., 0.24313726,\n",
       "          0.2509804 , 0.23137255],\n",
       "         [0.        , 0.        , 0.        , ..., 0.        ,\n",
       "          0.        , 0.        ]],\n",
       "\n",
       "        [[0.85882354, 0.8352941 , 0.8235294 , ..., 0.05490196,\n",
       "          0.05490196, 0.05882353],\n",
       "         [1.        , 1.        , 1.        , ..., 0.7019608 ,\n",
       "          0.7294118 , 0.7607843 ],\n",
       "         [1.        , 1.        , 1.        , ..., 1.        ,\n",
       "          1.        , 1.        ],\n",
       "         ...,\n",
       "         [0.40392157, 0.36862746, 0.44313726, ..., 0.3372549 ,\n",
       "          0.33333334, 0.3372549 ],\n",
       "         [0.39607844, 0.3647059 , 0.45882353, ..., 0.3764706 ,\n",
       "          0.39215687, 0.3764706 ],\n",
       "         [0.        , 0.        , 0.        , ..., 0.        ,\n",
       "          0.        , 0.        ]],\n",
       "\n",
       "        [[0.8666667 , 0.84705883, 0.8352941 , ..., 0.10588235,\n",
       "          0.09019608, 0.09803922],\n",
       "         [1.        , 1.        , 1.        , ..., 0.74509805,\n",
       "          0.7764706 , 0.80784315],\n",
       "         [1.        , 1.        , 1.        , ..., 1.        ,\n",
       "          1.        , 1.        ],\n",
       "         ...,\n",
       "         [0.42745098, 0.3882353 , 0.47058824, ..., 0.3372549 ,\n",
       "          0.33333334, 0.3372549 ],\n",
       "         [0.40784314, 0.39607844, 0.49803922, ..., 0.36078432,\n",
       "          0.3764706 , 0.36078432],\n",
       "         [0.        , 0.        , 0.        , ..., 0.        ,\n",
       "          0.        , 0.        ]]]], dtype=float32)"
      ]
     },
     "execution_count": 17,
     "metadata": {},
     "output_type": "execute_result"
    }
   ],
   "source": [
    "orig_img"
   ]
  },
  {
   "cell_type": "code",
   "execution_count": null,
   "metadata": {},
   "outputs": [],
   "source": []
  }
 ],
 "metadata": {
  "kernelspec": {
   "display_name": "Python 3",
   "language": "python",
   "name": "python3"
  },
  "language_info": {
   "codemirror_mode": {
    "name": "ipython",
    "version": 3
   },
   "file_extension": ".py",
   "mimetype": "text/x-python",
   "name": "python",
   "nbconvert_exporter": "python",
   "pygments_lexer": "ipython3",
   "version": "3.8.1"
  }
 },
 "nbformat": 4,
 "nbformat_minor": 4
}
